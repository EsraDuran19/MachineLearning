{
 "cells": [
  {
   "cell_type": "code",
   "execution_count": 114,
   "id": "7f371e22",
   "metadata": {},
   "outputs": [],
   "source": [
    "import matplotlib.pyplot as plt\n",
    "import numpy as np\n",
    "import pandas as pd\n",
    "import scipy.stats as stats\n",
    "\n",
    "def safelog(x):\n",
    "    return(np.log(x + 1e-100))"
   ]
  },
  {
   "cell_type": "code",
   "execution_count": 115,
   "id": "0a8d6556",
   "metadata": {},
   "outputs": [],
   "source": [
    "data_set = np.genfromtxt(\"hw02_data_points.csv\", delimiter = \",\")\n",
    "class_set = np.genfromtxt(\"hw02_class_labels.csv\")"
   ]
  },
  {
   "cell_type": "code",
   "execution_count": 116,
   "id": "78e0bd24",
   "metadata": {},
   "outputs": [],
   "source": [
    "D=data_set.shape[1]    #784\n",
    "X=data_set[:10000, 0:D]\n",
    "y_truth=class_set[:10000].astype(int)\n",
    "N=X.shape[0]  #10K\n",
    "\n",
    "x_test=data_set[10000:, 0:D]\n",
    "y_test=class_set[10000:].astype(int)\n",
    "N_test=x_test.shape[0]   #5K\n",
    "\n",
    "# get number of classes\n",
    "K = np.max(y_truth).astype(int) #10\n",
    "\n",
    "# one-of-K encoding\n",
    "Y_truth = np.zeros((N, K))\n",
    "\n",
    "Y_truth[range(N), (y_truth[:] - 1)] = 1\n",
    "Y_test=np.zeros((N_test, K))\n",
    "Y_test[range(N_test), (y_test[:] - 1)] = 1"
   ]
  },
  {
   "cell_type": "code",
   "execution_count": 119,
   "id": "1a4e3566",
   "metadata": {},
   "outputs": [],
   "source": [
    "\n",
    "def sigmoid(X, w, w0): #12286\n",
    "    return(1 / (1 + np.exp(-(np.matmul(X, w) + w0))))   #Use this\n",
    "\n",
    "def gradient_W(X, Y_truth, Y_predicted,K):\n",
    "  \n",
    "    return (np.asarray([-np.matmul(  (Y_truth[:, c] - Y_predicted[:, c])*Y_predicted[:, c]*(1-Y_predicted[:, c])   , X) \n",
    "                        for c in range(K)]).transpose())\n",
    "\n",
    "def gradient_w0(Y_truth, Y_predicted,K):\n",
    "    return(np.asarray([-np.sum((Y_truth[:, c] - Y_predicted[:, c])*Y_predicted[:, c]*(1-Y_predicted[:, c]) ) \n",
    "                        for c in range(K)]).transpose())"
   ]
  },
  {
   "cell_type": "code",
   "execution_count": 120,
   "id": "be038110",
   "metadata": {},
   "outputs": [
    {
     "name": "stdout",
     "output_type": "stream",
     "text": [
      "[-0.01287857 -0.02891159 -0.00873806 -0.03535891 -0.02597275 -0.06542254\n",
      " -0.01501564 -0.0451543   0.00689065 -0.01964791]\n",
      "[[-0.01324798 -0.02823844 -0.00326868 ... -0.04877851  0.01212054\n",
      "  -0.01143465]\n",
      " [-0.01183842 -0.03963016 -0.01295336 ... -0.04034705  0.00400381\n",
      "  -0.02111644]\n",
      " [-0.01998825 -0.03633561 -0.00489235 ... -0.04108662  0.01387463\n",
      "  -0.02484677]\n",
      " ...\n",
      " [-0.01341638 -0.0199712  -0.02071762 ... -0.03364511  0.00594223\n",
      "  -0.01845717]\n",
      " [-0.00980747 -0.03218592 -0.02022552 ... -0.03211477  0.01611503\n",
      "  -0.00845905]\n",
      " [-0.01977218 -0.02373074 -0.01468591 ... -0.04159601  0.01068509\n",
      "  -0.02400039]]\n"
     ]
    }
   ],
   "source": [
    "W = np.genfromtxt(\"hw02_W_initial.csv\", delimiter = \",\")\n",
    "w0 = np.genfromtxt(\"hw02_w0_initial.csv\", delimiter = \",\")\n",
    "\n",
    "# set learning parameters\n",
    "eta = 0.00001\n",
    "iteration_count = 1000\n",
    "objective_values = []\n",
    "itr=0\n",
    "while True:\n",
    "    Y_predicted = sigmoid(X, W, w0) \n",
    "   \n",
    "    objective_values = np.append(objective_values, 0.5*(np.sum((Y_truth - Y_predicted)**2)))\n",
    "    \n",
    "\n",
    "    w_old = W\n",
    "    w0_old = w0\n",
    "    #print(W.shape,gradient_W(X, Y_truth, Y_predicted).shape)\n",
    "    W = W - eta * gradient_W(X, Y_truth, Y_predicted,K)\n",
    "    w0 = w0 - eta * gradient_w0(Y_truth, Y_predicted,K)\n",
    "    itr=itr+1\n",
    "    if (itr==iteration_count):\n",
    "        break\n",
    "        \n",
    "   \n",
    "    \n",
    "print(W)\n",
    "print(w0)"
   ]
  },
  {
   "cell_type": "code",
   "execution_count": 121,
   "id": "b9cc8530",
   "metadata": {},
   "outputs": [
    {
     "data": {
      "image/png": "[encoded data removed]",
      "text/plain": [
       "<Figure size 800x400 with 1 Axes>"
      ]
     },
     "metadata": {},
     "output_type": "display_data"
    }
   ],
   "source": [
    "# plot objective function during iterations\n",
    "plt.figure(figsize = (8, 4))\n",
    "plt.plot(range(1, itr+1 ), objective_values, \"k-\")\n",
    "plt.xlabel(\"Iteration\")\n",
    "plt.ylabel(\"Error\")\n",
    "plt.show()"
   ]
  },
  {
   "cell_type": "code",
   "execution_count": 122,
   "id": "2127c3ee",
   "metadata": {},
   "outputs": [
    {
     "name": "stdout",
     "output_type": "stream",
     "text": [
      "y_truth   1    2    3    4    5    6    7    8    9    10\n",
      "y_pred                                                   \n",
      "1        838    3   14   44    5    0  220    0    1    0\n",
      "2          4  908    1   17    4    0    3    0    2    0\n",
      "3         14   12  645   14   69    0  133    0    9    1\n",
      "4         89   37    5  870   41    2   55    0   12    2\n",
      "5          2    6  172   28  763    0  123    0    6    0\n",
      "6         16    3   26    5    8  841   30   89   25   33\n",
      "7         27    3   80   28   79    0  423    0   17    0\n",
      "8          0    0    0    0    0  115    1  862    8   43\n",
      "9         18    0    8    5   10   13   34    2  892    0\n",
      "10         1    0    0    1    0   37    0   84    2  957\n"
     ]
    }
   ],
   "source": [
    "# calculate confusion matrix\n",
    "y_predicted = np.argmax(Y_predicted, axis = 1) + 1\n",
    "confusion_matrix = pd.crosstab(y_predicted, y_truth.T,\n",
    "                               rownames = [\"y_pred\"],\n",
    "                               colnames = [\"y_truth\"])\n",
    "print(confusion_matrix)"
   ]
  },
  {
   "cell_type": "code",
   "execution_count": 123,
   "id": "418a6743",
   "metadata": {},
   "outputs": [
    {
     "name": "stdout",
     "output_type": "stream",
     "text": [
      "y_truth   1    2    3    4    5    6    7    8    9    10\n",
      "y_pred                                                   \n",
      "1        397    1   11   22    0    1  129    0    0    0\n",
      "2          4  459    0    8    3    0    1    0    0    0\n",
      "3          7   10  320    6   49    1   52    0    5    0\n",
      "4         51   15    3  443   19    1   31    0   10    0\n",
      "5          2    2   83   14  382    0   58    0    1    0\n",
      "6          9    2   13    2    4  405   12   39   14   18\n",
      "7         14    1   50   11   47    0  218    0    9    0\n",
      "8          1    0    0    0    0   47    0  387    7   27\n",
      "9         16    0   10    1    2    7   18    1  459    0\n",
      "10         1    0    0    0    0   28    0   44    3  472\n"
     ]
    }
   ],
   "source": [
    "Y_predicted_test = sigmoid(x_test, W, w0)\n",
    "y_predicted_test = np.argmax(Y_predicted_test, axis = 1) + 1\n",
    "confusion_matrix = pd.crosstab(y_predicted_test, y_test.T,\n",
    "                               rownames = [\"y_pred\"],\n",
    "                               colnames = [\"y_truth\"])\n",
    "print(confusion_matrix)\n",
    "   "
   ]
  }
 ],
 "metadata": {
  "kernelspec": {
   "display_name": "Python 3 (ipykernel)",
   "language": "python",
   "name": "python3"
  },
  "language_info": {
   "codemirror_mode": {
    "name": "ipython",
    "version": 3
   },
   "file_extension": ".py",
   "mimetype": "text/x-python",
   "name": "python",
   "nbconvert_exporter": "python",
   "pygments_lexer": "ipython3",
   "version": "3.9.7"
  }
 },
 "nbformat": 4,
 "nbformat_minor": 5
}
